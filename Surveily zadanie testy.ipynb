{
 "cells": [
  {
   "cell_type": "code",
   "execution_count": 16,
   "id": "7cbc8aed",
   "metadata": {},
   "outputs": [],
   "source": [
    "x=2"
   ]
  },
  {
   "cell_type": "code",
   "execution_count": 6,
   "id": "25e1ef04",
   "metadata": {},
   "outputs": [
    {
     "name": "stdout",
     "output_type": "stream",
     "text": [
      "Collecting roboflow\n",
      "  Obtaining dependency information for roboflow from https://files.pythonhosted.org/packages/4f/2c/13ef4a1811365208f7441dae564ea57dad4b58762196b7d8e65860b0cc07/roboflow-1.1.7-py3-none-any.whl.metadata\n",
      "  Using cached roboflow-1.1.7-py3-none-any.whl.metadata (9.0 kB)\n",
      "Requirement already satisfied: certifi==2022.12.7 in c:\\users\\xer12\\anaconda3\\lib\\site-packages (from roboflow) (2022.12.7)\n",
      "Requirement already satisfied: chardet==4.0.0 in c:\\users\\xer12\\anaconda3\\lib\\site-packages (from roboflow) (4.0.0)\n",
      "Requirement already satisfied: cycler==0.10.0 in c:\\users\\xer12\\anaconda3\\lib\\site-packages (from roboflow) (0.10.0)\n",
      "Requirement already satisfied: idna==2.10 in c:\\users\\xer12\\anaconda3\\lib\\site-packages (from roboflow) (2.10)\n",
      "Requirement already satisfied: kiwisolver>=1.3.1 in c:\\users\\xer12\\anaconda3\\lib\\site-packages (from roboflow) (1.4.4)\n",
      "Requirement already satisfied: matplotlib in c:\\users\\xer12\\anaconda3\\lib\\site-packages (from roboflow) (3.8.0)\n",
      "Requirement already satisfied: numpy>=1.18.5 in c:\\users\\xer12\\appdata\\roaming\\python\\python310\\site-packages (from roboflow) (1.23.5)\n",
      "Requirement already satisfied: opencv-python-headless==4.8.0.74 in c:\\users\\xer12\\anaconda3\\lib\\site-packages (from roboflow) (4.8.0.74)\n",
      "Requirement already satisfied: Pillow>=7.1.2 in c:\\users\\xer12\\anaconda3\\lib\\site-packages (from roboflow) (9.4.0)\n",
      "Requirement already satisfied: pyparsing==2.4.7 in c:\\users\\xer12\\anaconda3\\lib\\site-packages (from roboflow) (2.4.7)\n",
      "Requirement already satisfied: python-dateutil in c:\\users\\xer12\\anaconda3\\lib\\site-packages (from roboflow) (2.8.2)\n",
      "Requirement already satisfied: python-dotenv in c:\\users\\xer12\\anaconda3\\lib\\site-packages (from roboflow) (1.0.0)\n",
      "Requirement already satisfied: requests in c:\\users\\xer12\\appdata\\roaming\\python\\python310\\site-packages (from roboflow) (2.31.0)\n",
      "Requirement already satisfied: six in c:\\users\\xer12\\appdata\\roaming\\python\\python310\\site-packages (from roboflow) (1.16.0)\n",
      "Collecting supervision (from roboflow)\n",
      "  Obtaining dependency information for supervision from https://files.pythonhosted.org/packages/38/31/19d39cde7723206ecc1e054d16c792204a76ab884fefa656ea297b26af9e/supervision-0.14.0-py3-none-any.whl.metadata\n",
      "  Using cached supervision-0.14.0-py3-none-any.whl.metadata (13 kB)\n",
      "Requirement already satisfied: urllib3>=1.26.6 in c:\\users\\xer12\\appdata\\roaming\\python\\python310\\site-packages (from roboflow) (1.26.16)\n",
      "Requirement already satisfied: tqdm>=4.41.0 in c:\\users\\xer12\\anaconda3\\lib\\site-packages (from roboflow) (4.64.1)\n",
      "Requirement already satisfied: PyYAML>=5.3.1 in c:\\users\\xer12\\anaconda3\\lib\\site-packages (from roboflow) (6.0)\n",
      "Requirement already satisfied: requests-toolbelt in c:\\users\\xer12\\anaconda3\\lib\\site-packages (from roboflow) (0.9.1)\n",
      "Requirement already satisfied: colorama in c:\\users\\xer12\\anaconda3\\lib\\site-packages (from tqdm>=4.41.0->roboflow) (0.4.6)\n",
      "Requirement already satisfied: contourpy>=1.0.1 in c:\\users\\xer12\\anaconda3\\lib\\site-packages (from matplotlib->roboflow) (1.0.5)\n",
      "Requirement already satisfied: fonttools>=4.22.0 in c:\\users\\xer12\\anaconda3\\lib\\site-packages (from matplotlib->roboflow) (4.25.0)\n",
      "Requirement already satisfied: packaging>=20.0 in c:\\users\\xer12\\appdata\\roaming\\python\\python310\\site-packages (from matplotlib->roboflow) (23.1)\n",
      "Requirement already satisfied: charset-normalizer<4,>=2 in c:\\users\\xer12\\appdata\\roaming\\python\\python310\\site-packages (from requests->roboflow) (3.1.0)\n",
      "Requirement already satisfied: scipy<2.0.0,>=1.9.0 in c:\\users\\xer12\\appdata\\roaming\\python\\python310\\site-packages (from supervision->roboflow) (1.10.1)\n",
      "Using cached roboflow-1.1.7-py3-none-any.whl (58 kB)\n",
      "Using cached supervision-0.14.0-py3-none-any.whl (63 kB)\n",
      "Installing collected packages: supervision, roboflow\n",
      "Successfully installed roboflow-1.1.7 supervision-0.14.0\n"
     ]
    }
   ],
   "source": [
    "!pip install roboflow "
   ]
  },
  {
   "cell_type": "code",
   "execution_count": 7,
   "id": "4efb086a",
   "metadata": {},
   "outputs": [
    {
     "name": "stdout",
     "output_type": "stream",
     "text": [
      "loading Roboflow workspace...\n",
      "loading Roboflow project...\n"
     ]
    },
    {
     "name": "stderr",
     "output_type": "stream",
     "text": [
      "Downloading Dataset Version Zip in PPEs-4 to tensorflow:: 100%|████████████| 2233954/2233954 [18:09<00:00, 2050.62it/s]"
     ]
    },
    {
     "name": "stdout",
     "output_type": "stream",
     "text": [
      "\n"
     ]
    },
    {
     "name": "stderr",
     "output_type": "stream",
     "text": [
      "\n",
      "Extracting Dataset Version Zip to PPEs-4 in tensorflow:: 100%|██████████████████| 11984/11984 [01:07<00:00, 178.41it/s]\n"
     ]
    }
   ],
   "source": [
    "from roboflow import Roboflow\n",
    "rf = Roboflow(api_key=\"ALlrOsOChWfSloDPfrqL\")\n",
    "project = rf.workspace(\"personal-protective-equipment\").project(\"ppes-kaxsi\")\n",
    "dataset = project.version(4).download(\"tensorflow\")"
   ]
  },
  {
   "cell_type": "code",
   "execution_count": 29,
   "id": "0166b8a7",
   "metadata": {},
   "outputs": [],
   "source": [
    "#importing libraries\n",
    "import pandas as pd\n",
    "import seaborn as sn"
   ]
  },
  {
   "cell_type": "code",
   "execution_count": 23,
   "id": "480b86f7",
   "metadata": {},
   "outputs": [],
   "source": [
    "df_description_train = pd.read_csv(\"C:/Data Science/Projekty/Surveily zadanie/PPEs-4/train/_annotations.csv\")"
   ]
  },
  {
   "cell_type": "code",
   "execution_count": 24,
   "id": "4ddde9ab",
   "metadata": {},
   "outputs": [],
   "source": [
    "df_description_valid = pd.read_csv(\"C:/Data Science/Projekty/Surveily zadanie/PPEs-4/valid/_annotations.csv\")"
   ]
  },
  {
   "cell_type": "code",
   "execution_count": 28,
   "id": "0a7a6c79",
   "metadata": {},
   "outputs": [
    {
     "data": {
      "text/plain": [
       "Index(['filename', 'width', 'height', 'class', 'xmin', 'ymin', 'xmax', 'ymax'], dtype='object')"
      ]
     },
     "execution_count": 28,
     "metadata": {},
     "output_type": "execute_result"
    }
   ],
   "source": [
    "df_description_train.columns"
   ]
  },
  {
   "cell_type": "code",
   "execution_count": 31,
   "id": "205533f9",
   "metadata": {
    "scrolled": true
   },
   "outputs": [
    {
     "data": {
      "text/plain": [
       "<Axes: xlabel='count', ylabel='class'>"
      ]
     },
     "execution_count": 31,
     "metadata": {},
     "output_type": "execute_result"
    },
    {
     "data": {
      "image/png": "[encoded data removed]",
      "text/plain": [
       "<Figure size 640x480 with 1 Axes>"
      ]
     },
     "metadata": {},
     "output_type": "display_data"
    }
   ],
   "source": [
    "fig, ax = subplots()\n",
    "sn.countplot(data = df_description_train, y=\"class\")\n",
    "ax.set_ylabel(\"Class\")\n",
    "ax.set_xlabel(\"Age (years)\")"
   ]
  },
  {
   "cell_type": "code",
   "execution_count": null,
   "id": "0280617b",
   "metadata": {},
   "outputs": [],
   "source": []
  }
 ],
 "metadata": {
  "kernelspec": {
   "display_name": "Python 3 (ipykernel)",
   "language": "python",
   "name": "python3"
  },
  "language_info": {
   "codemirror_mode": {
    "name": "ipython",
    "version": 3
   },
   "file_extension": ".py",
   "mimetype": "text/x-python",
   "name": "python",
   "nbconvert_exporter": "python",
   "pygments_lexer": "ipython3",
   "version": "3.10.9"
  },
  "varInspector": {
   "cols": {
    "lenName": 16,
    "lenType": 16,
    "lenVar": 40
   },
   "kernels_config": {
    "python": {
     "delete_cmd_postfix": "",
     "delete_cmd_prefix": "del ",
     "library": "var_list.py",
     "varRefreshCmd": "print(var_dic_list())"
    },
    "r": {
     "delete_cmd_postfix": ") ",
     "delete_cmd_prefix": "rm(",
     "library": "var_list.r",
     "varRefreshCmd": "cat(var_dic_list()) "
    }
   },
   "types_to_exclude": [
    "module",
    "function",
    "builtin_function_or_method",
    "instance",
    "_Feature"
   ],
   "window_display": true
  }
 },
 "nbformat": 4,
 "nbformat_minor": 5
}
